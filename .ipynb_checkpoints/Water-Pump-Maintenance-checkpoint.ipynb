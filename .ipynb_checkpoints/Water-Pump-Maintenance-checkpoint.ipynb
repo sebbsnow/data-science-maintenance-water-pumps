{
 "cells": [
  {
   "cell_type": "code",
   "execution_count": 93,
   "metadata": {},
   "outputs": [],
   "source": [
    "# Importer les librairies\n",
    "import pandas as pd\n",
    "import numpy as np"
   ]
  },
  {
   "cell_type": "code",
   "execution_count": 231,
   "metadata": {},
   "outputs": [],
   "source": [
    "\n",
    "# Importer les librairies pour la visualisation\n",
    "# seaborn = librairies pour data visualisation\n",
    "import seaborn as sns\n",
    "# Dépendances necessaires pour seaborn\n",
    "# 1/ La librairie pyplot de matplotlib\n",
    "import matplotlib.pyplot as plt\n",
    "from matplotlib.pylab import rcParams\n",
    "\n",
    "# Fonction spéciale de Jupyter pour afficher les plots sur Jupyter Notebook\n",
    "%matplotlib inline"
   ]
  },
  {
   "cell_type": "code",
   "execution_count": 95,
   "metadata": {},
   "outputs": [],
   "source": [
    "# Lire le fichier CSV\n",
    "dfX = pd.read_csv('dataset/PUMP_training_set_values.csv', encoding = 'iso-8859-1') # VARIABLES PREDICTIVES\n",
    "dfY = pd.read_csv('dataset/PUMP_training_set_labels.csv', encoding = 'iso-8859-1') # target variable\n",
    "dfTest = pd.read_csv('dataset/PUMP_test_set_values.csv', encoding = 'iso-8859-1') # test set"
   ]
  },
  {
   "cell_type": "code",
   "execution_count": 96,
   "metadata": {},
   "outputs": [
    {
     "data": {
      "text/html": [
       "<div>\n",
       "<style scoped>\n",
       "    .dataframe tbody tr th:only-of-type {\n",
       "        vertical-align: middle;\n",
       "    }\n",
       "\n",
       "    .dataframe tbody tr th {\n",
       "        vertical-align: top;\n",
       "    }\n",
       "\n",
       "    .dataframe thead th {\n",
       "        text-align: right;\n",
       "    }\n",
       "</style>\n",
       "<table border=\"1\" class=\"dataframe\">\n",
       "  <thead>\n",
       "    <tr style=\"text-align: right;\">\n",
       "      <th></th>\n",
       "      <th>id</th>\n",
       "      <th>amount_tsh</th>\n",
       "      <th>date_recorded</th>\n",
       "      <th>funder</th>\n",
       "      <th>gps_height</th>\n",
       "      <th>installer</th>\n",
       "      <th>longitude</th>\n",
       "      <th>latitude</th>\n",
       "      <th>wpt_name</th>\n",
       "      <th>num_private</th>\n",
       "      <th>...</th>\n",
       "      <th>payment_type</th>\n",
       "      <th>water_quality</th>\n",
       "      <th>quality_group</th>\n",
       "      <th>quantity</th>\n",
       "      <th>quantity_group</th>\n",
       "      <th>source</th>\n",
       "      <th>source_type</th>\n",
       "      <th>source_class</th>\n",
       "      <th>waterpoint_type</th>\n",
       "      <th>waterpoint_type_group</th>\n",
       "    </tr>\n",
       "  </thead>\n",
       "  <tbody>\n",
       "    <tr>\n",
       "      <th>0</th>\n",
       "      <td>69572</td>\n",
       "      <td>6000.0</td>\n",
       "      <td>2011-03-14</td>\n",
       "      <td>Roman</td>\n",
       "      <td>1390</td>\n",
       "      <td>Roman</td>\n",
       "      <td>34.938093</td>\n",
       "      <td>-9.856322</td>\n",
       "      <td>none</td>\n",
       "      <td>0</td>\n",
       "      <td>...</td>\n",
       "      <td>annually</td>\n",
       "      <td>soft</td>\n",
       "      <td>good</td>\n",
       "      <td>enough</td>\n",
       "      <td>enough</td>\n",
       "      <td>spring</td>\n",
       "      <td>spring</td>\n",
       "      <td>groundwater</td>\n",
       "      <td>communal standpipe</td>\n",
       "      <td>communal standpipe</td>\n",
       "    </tr>\n",
       "    <tr>\n",
       "      <th>1</th>\n",
       "      <td>8776</td>\n",
       "      <td>0.0</td>\n",
       "      <td>2013-03-06</td>\n",
       "      <td>Grumeti</td>\n",
       "      <td>1399</td>\n",
       "      <td>GRUMETI</td>\n",
       "      <td>34.698766</td>\n",
       "      <td>-2.147466</td>\n",
       "      <td>Zahanati</td>\n",
       "      <td>0</td>\n",
       "      <td>...</td>\n",
       "      <td>never pay</td>\n",
       "      <td>soft</td>\n",
       "      <td>good</td>\n",
       "      <td>insufficient</td>\n",
       "      <td>insufficient</td>\n",
       "      <td>rainwater harvesting</td>\n",
       "      <td>rainwater harvesting</td>\n",
       "      <td>surface</td>\n",
       "      <td>communal standpipe</td>\n",
       "      <td>communal standpipe</td>\n",
       "    </tr>\n",
       "    <tr>\n",
       "      <th>2</th>\n",
       "      <td>34310</td>\n",
       "      <td>25.0</td>\n",
       "      <td>2013-02-25</td>\n",
       "      <td>Lottery Club</td>\n",
       "      <td>686</td>\n",
       "      <td>World vision</td>\n",
       "      <td>37.460664</td>\n",
       "      <td>-3.821329</td>\n",
       "      <td>Kwa Mahundi</td>\n",
       "      <td>0</td>\n",
       "      <td>...</td>\n",
       "      <td>per bucket</td>\n",
       "      <td>soft</td>\n",
       "      <td>good</td>\n",
       "      <td>enough</td>\n",
       "      <td>enough</td>\n",
       "      <td>dam</td>\n",
       "      <td>dam</td>\n",
       "      <td>surface</td>\n",
       "      <td>communal standpipe multiple</td>\n",
       "      <td>communal standpipe</td>\n",
       "    </tr>\n",
       "    <tr>\n",
       "      <th>3</th>\n",
       "      <td>67743</td>\n",
       "      <td>0.0</td>\n",
       "      <td>2013-01-28</td>\n",
       "      <td>Unicef</td>\n",
       "      <td>263</td>\n",
       "      <td>UNICEF</td>\n",
       "      <td>38.486161</td>\n",
       "      <td>-11.155298</td>\n",
       "      <td>Zahanati Ya Nanyumbu</td>\n",
       "      <td>0</td>\n",
       "      <td>...</td>\n",
       "      <td>never pay</td>\n",
       "      <td>soft</td>\n",
       "      <td>good</td>\n",
       "      <td>dry</td>\n",
       "      <td>dry</td>\n",
       "      <td>machine dbh</td>\n",
       "      <td>borehole</td>\n",
       "      <td>groundwater</td>\n",
       "      <td>communal standpipe multiple</td>\n",
       "      <td>communal standpipe</td>\n",
       "    </tr>\n",
       "    <tr>\n",
       "      <th>4</th>\n",
       "      <td>19728</td>\n",
       "      <td>0.0</td>\n",
       "      <td>2011-07-13</td>\n",
       "      <td>Action In A</td>\n",
       "      <td>0</td>\n",
       "      <td>Artisan</td>\n",
       "      <td>31.130847</td>\n",
       "      <td>-1.825359</td>\n",
       "      <td>Shuleni</td>\n",
       "      <td>0</td>\n",
       "      <td>...</td>\n",
       "      <td>never pay</td>\n",
       "      <td>soft</td>\n",
       "      <td>good</td>\n",
       "      <td>seasonal</td>\n",
       "      <td>seasonal</td>\n",
       "      <td>rainwater harvesting</td>\n",
       "      <td>rainwater harvesting</td>\n",
       "      <td>surface</td>\n",
       "      <td>communal standpipe</td>\n",
       "      <td>communal standpipe</td>\n",
       "    </tr>\n",
       "  </tbody>\n",
       "</table>\n",
       "<p>5 rows × 40 columns</p>\n",
       "</div>"
      ],
      "text/plain": [
       "      id  amount_tsh date_recorded        funder  gps_height     installer  \\\n",
       "0  69572      6000.0    2011-03-14         Roman        1390         Roman   \n",
       "1   8776         0.0    2013-03-06       Grumeti        1399       GRUMETI   \n",
       "2  34310        25.0    2013-02-25  Lottery Club         686  World vision   \n",
       "3  67743         0.0    2013-01-28        Unicef         263        UNICEF   \n",
       "4  19728         0.0    2011-07-13   Action In A           0       Artisan   \n",
       "\n",
       "   longitude   latitude              wpt_name  num_private  \\\n",
       "0  34.938093  -9.856322                  none            0   \n",
       "1  34.698766  -2.147466              Zahanati            0   \n",
       "2  37.460664  -3.821329           Kwa Mahundi            0   \n",
       "3  38.486161 -11.155298  Zahanati Ya Nanyumbu            0   \n",
       "4  31.130847  -1.825359               Shuleni            0   \n",
       "\n",
       "           ...          payment_type water_quality quality_group  \\\n",
       "0          ...              annually          soft          good   \n",
       "1          ...             never pay          soft          good   \n",
       "2          ...            per bucket          soft          good   \n",
       "3          ...             never pay          soft          good   \n",
       "4          ...             never pay          soft          good   \n",
       "\n",
       "       quantity  quantity_group                source           source_type  \\\n",
       "0        enough          enough                spring                spring   \n",
       "1  insufficient    insufficient  rainwater harvesting  rainwater harvesting   \n",
       "2        enough          enough                   dam                   dam   \n",
       "3           dry             dry           machine dbh              borehole   \n",
       "4      seasonal        seasonal  rainwater harvesting  rainwater harvesting   \n",
       "\n",
       "   source_class              waterpoint_type waterpoint_type_group  \n",
       "0   groundwater           communal standpipe    communal standpipe  \n",
       "1       surface           communal standpipe    communal standpipe  \n",
       "2       surface  communal standpipe multiple    communal standpipe  \n",
       "3   groundwater  communal standpipe multiple    communal standpipe  \n",
       "4       surface           communal standpipe    communal standpipe  \n",
       "\n",
       "[5 rows x 40 columns]"
      ]
     },
     "execution_count": 96,
     "metadata": {},
     "output_type": "execute_result"
    }
   ],
   "source": [
    "# VARIABLES PREDICTIVES\n",
    "# Afficher les premières lignes du dataset des features\n",
    "dfX.head()"
   ]
  },
  {
   "cell_type": "code",
   "execution_count": 97,
   "metadata": {},
   "outputs": [
    {
     "name": "stdout",
     "output_type": "stream",
     "text": [
      "Train data rows, columns: (59400, 40)\n"
     ]
    }
   ],
   "source": [
    "# VARIABLES PREDICTIVES\n",
    "# Nombre de lignes et de colonnes (index, columns)\n",
    "print (\"Train data rows, columns:\", dfX.shape)"
   ]
  },
  {
   "cell_type": "code",
   "execution_count": 98,
   "metadata": {},
   "outputs": [
    {
     "name": "stdout",
     "output_type": "stream",
     "text": [
      "Target (labels) data rows: 59400\n"
     ]
    }
   ],
   "source": [
    "# VARIABLES TARGET\n",
    "# Nombre de lignes et de colonnes (index, columns)\n",
    "print (\"Target (labels) data rows:\", dfY.shape[0])"
   ]
  },
  {
   "cell_type": "code",
   "execution_count": 99,
   "metadata": {},
   "outputs": [
    {
     "name": "stdout",
     "output_type": "stream",
     "text": [
      "Test data rows, columns: (14850, 40)\n"
     ]
    }
   ],
   "source": [
    "# TEST SET\n",
    "# Nombre de lignes et de colonnes (index, columns)\n",
    "print (\"Test data rows, columns:\", dfTest.shape)"
   ]
  },
  {
   "cell_type": "code",
   "execution_count": 100,
   "metadata": {},
   "outputs": [
    {
     "name": "stdout",
     "output_type": "stream",
     "text": [
      "Train data rows : 59400\n",
      "Train data rows : 59400\n",
      "Train data rows : 59400\n"
     ]
    }
   ],
   "source": [
    "# VARIABLES PREDICTIVES\n",
    "# Nombre de lignes\n",
    "print (\"Train data rows :\", len(dfX))\n",
    "print (\"Train data rows :\", len(dfX.index))\n",
    "print (\"Train data rows :\", dfX.shape[0])"
   ]
  },
  {
   "cell_type": "code",
   "execution_count": 101,
   "metadata": {},
   "outputs": [
    {
     "name": "stdout",
     "output_type": "stream",
     "text": [
      "Train data columns : 40\n",
      "Train data columns: 40\n"
     ]
    }
   ],
   "source": [
    "# VARIABLES PREDICTIVES\n",
    "# Nombre de colonnes\n",
    "print (\"Train data columns :\", len(dfX.columns))\n",
    "print (\"Train data columns:\", dfX.shape[1])"
   ]
  },
  {
   "cell_type": "code",
   "execution_count": 102,
   "metadata": {},
   "outputs": [
    {
     "data": {
      "text/plain": [
       "['id',\n",
       " 'amount_tsh',\n",
       " 'date_recorded',\n",
       " 'funder',\n",
       " 'gps_height',\n",
       " 'installer',\n",
       " 'longitude',\n",
       " 'latitude',\n",
       " 'wpt_name',\n",
       " 'num_private',\n",
       " 'basin',\n",
       " 'subvillage',\n",
       " 'region',\n",
       " 'region_code',\n",
       " 'district_code',\n",
       " 'lga',\n",
       " 'ward',\n",
       " 'population',\n",
       " 'public_meeting',\n",
       " 'recorded_by',\n",
       " 'scheme_management',\n",
       " 'scheme_name',\n",
       " 'permit',\n",
       " 'construction_year',\n",
       " 'extraction_type',\n",
       " 'extraction_type_group',\n",
       " 'extraction_type_class',\n",
       " 'management',\n",
       " 'management_group',\n",
       " 'payment',\n",
       " 'payment_type',\n",
       " 'water_quality',\n",
       " 'quality_group',\n",
       " 'quantity',\n",
       " 'quantity_group',\n",
       " 'source',\n",
       " 'source_type',\n",
       " 'source_class',\n",
       " 'waterpoint_type',\n",
       " 'waterpoint_type_group']"
      ]
     },
     "execution_count": 102,
     "metadata": {},
     "output_type": "execute_result"
    }
   ],
   "source": [
    "# LISTE DES COLONNES (VARIABLES PREDICTIVES)\n",
    "list(dfX.columns.values)"
   ]
  },
  {
   "cell_type": "code",
   "execution_count": 103,
   "metadata": {},
   "outputs": [
    {
     "name": "stdout",
     "output_type": "stream",
     "text": [
      "2376000\n"
     ]
    }
   ],
   "source": [
    "# VARIABLES PREDICTIVES\n",
    "# Nombre total de valeurs\n",
    "print (dfX.shape[0] * dfX.shape[1])"
   ]
  },
  {
   "cell_type": "code",
   "execution_count": 104,
   "metadata": {},
   "outputs": [
    {
     "name": "stdout",
     "output_type": "stream",
     "text": [
      "2329906\n"
     ]
    }
   ],
   "source": [
    "# VARIABLES PREDICTIVES\n",
    "# Nombre de valeurs non nulles\n",
    "print (dfX.count().sum())"
   ]
  },
  {
   "cell_type": "code",
   "execution_count": 105,
   "metadata": {},
   "outputs": [
    {
     "name": "stdout",
     "output_type": "stream",
     "text": [
      "46094\n"
     ]
    }
   ],
   "source": [
    "# VARIABLES PREDICTIVES\n",
    "# Nombre de valeurs nulles\n",
    "print (dfX.isnull().sum().sum())"
   ]
  },
  {
   "cell_type": "code",
   "execution_count": 106,
   "metadata": {},
   "outputs": [
    {
     "name": "stdout",
     "output_type": "stream",
     "text": [
      "59400\n",
      "59400\n",
      "59400\n"
     ]
    }
   ],
   "source": [
    "# VARIABLES TARGET\n",
    "# Nombre de lignes\n",
    "print (len(dfY))\n",
    "print (len(dfY.index))\n",
    "print (dfY.shape[0])"
   ]
  },
  {
   "cell_type": "code",
   "execution_count": 107,
   "metadata": {},
   "outputs": [
    {
     "name": "stdout",
     "output_type": "stream",
     "text": [
      "2\n",
      "2\n"
     ]
    }
   ],
   "source": [
    "# VARIABLES TARGET\n",
    "# Nombre de colonnes\n",
    "print (len(dfY.columns))\n",
    "print (dfY.shape[1])"
   ]
  },
  {
   "cell_type": "code",
   "execution_count": 108,
   "metadata": {},
   "outputs": [
    {
     "data": {
      "text/html": [
       "<div>\n",
       "<style scoped>\n",
       "    .dataframe tbody tr th:only-of-type {\n",
       "        vertical-align: middle;\n",
       "    }\n",
       "\n",
       "    .dataframe tbody tr th {\n",
       "        vertical-align: top;\n",
       "    }\n",
       "\n",
       "    .dataframe thead th {\n",
       "        text-align: right;\n",
       "    }\n",
       "</style>\n",
       "<table border=\"1\" class=\"dataframe\">\n",
       "  <thead>\n",
       "    <tr style=\"text-align: right;\">\n",
       "      <th></th>\n",
       "      <th>id</th>\n",
       "      <th>status_group</th>\n",
       "    </tr>\n",
       "  </thead>\n",
       "  <tbody>\n",
       "    <tr>\n",
       "      <th>0</th>\n",
       "      <td>69572</td>\n",
       "      <td>functional</td>\n",
       "    </tr>\n",
       "    <tr>\n",
       "      <th>1</th>\n",
       "      <td>8776</td>\n",
       "      <td>functional</td>\n",
       "    </tr>\n",
       "    <tr>\n",
       "      <th>2</th>\n",
       "      <td>34310</td>\n",
       "      <td>functional</td>\n",
       "    </tr>\n",
       "    <tr>\n",
       "      <th>3</th>\n",
       "      <td>67743</td>\n",
       "      <td>non functional</td>\n",
       "    </tr>\n",
       "    <tr>\n",
       "      <th>4</th>\n",
       "      <td>19728</td>\n",
       "      <td>functional</td>\n",
       "    </tr>\n",
       "    <tr>\n",
       "      <th>5</th>\n",
       "      <td>9944</td>\n",
       "      <td>functional</td>\n",
       "    </tr>\n",
       "    <tr>\n",
       "      <th>6</th>\n",
       "      <td>19816</td>\n",
       "      <td>non functional</td>\n",
       "    </tr>\n",
       "    <tr>\n",
       "      <th>7</th>\n",
       "      <td>54551</td>\n",
       "      <td>non functional</td>\n",
       "    </tr>\n",
       "    <tr>\n",
       "      <th>8</th>\n",
       "      <td>53934</td>\n",
       "      <td>non functional</td>\n",
       "    </tr>\n",
       "    <tr>\n",
       "      <th>9</th>\n",
       "      <td>46144</td>\n",
       "      <td>functional</td>\n",
       "    </tr>\n",
       "  </tbody>\n",
       "</table>\n",
       "</div>"
      ],
      "text/plain": [
       "      id    status_group\n",
       "0  69572      functional\n",
       "1   8776      functional\n",
       "2  34310      functional\n",
       "3  67743  non functional\n",
       "4  19728      functional\n",
       "5   9944      functional\n",
       "6  19816  non functional\n",
       "7  54551  non functional\n",
       "8  53934  non functional\n",
       "9  46144      functional"
      ]
     },
     "execution_count": 108,
     "metadata": {},
     "output_type": "execute_result"
    }
   ],
   "source": [
    "# VARIABLES TARGET\n",
    "# Afficher les 10 premère lignes de la table de Target\n",
    "dfY.head(10)"
   ]
  },
  {
   "cell_type": "code",
   "execution_count": 109,
   "metadata": {},
   "outputs": [
    {
     "name": "stdout",
     "output_type": "stream",
     "text": [
      "['functional' 'non functional' 'functional needs repair']\n"
     ]
    }
   ],
   "source": [
    "# VARIABLES TARGET\n",
    "# Afficher les valeurs uniques trouvées dans la colonne \"status_group\"\n",
    "print (dfY.status_group.unique())"
   ]
  },
  {
   "cell_type": "code",
   "execution_count": 110,
   "metadata": {},
   "outputs": [
    {
     "name": "stdout",
     "output_type": "stream",
     "text": [
      "functional                 32259\n",
      "non functional             22824\n",
      "functional needs repair     4317\n",
      "Name: status_group, dtype: int64\n"
     ]
    }
   ],
   "source": [
    "# VARIABLES TARGET\n",
    "# Compter le nombre de pompes pour la valeur d’état de chaque pompe\n",
    "print (dfY['status_group'].value_counts())"
   ]
  },
  {
   "cell_type": "code",
   "execution_count": 111,
   "metadata": {},
   "outputs": [
    {
     "name": "stdout",
     "output_type": "stream",
     "text": [
      "functional                 0.543081\n",
      "non functional             0.384242\n",
      "functional needs repair    0.072677\n",
      "Name: status_group, dtype: float64\n"
     ]
    }
   ],
   "source": [
    "# VARIABLES TARGET\n",
    "# % de pompes en fonction de la valeur d’état de la pompe\n",
    "print (dfY['status_group'].value_counts()/len(dfY['status_group']))"
   ]
  },
  {
   "cell_type": "code",
   "execution_count": 112,
   "metadata": {},
   "outputs": [
    {
     "name": "stdout",
     "output_type": "stream",
     "text": [
      "0.543080808080808\n",
      "0.3842424242424242\n",
      "0.07267676767676767\n"
     ]
    }
   ],
   "source": [
    "# VARIABLES TARGET\n",
    "# % de pompes en fonction de la valeur d’état de la pompe\n",
    "# print (len(dfX.index)) est le nombre total de ligne\n",
    "print ((dfY['status_group'] == \"functional\").sum()/len(dfX.index))\n",
    "print ((dfY['status_group'] == \"non functional\").sum()/len(dfX.index))\n",
    "print ((dfY['status_group'] == \"functional needs repair\").sum()/len(dfX.index))"
   ]
  },
  {
   "cell_type": "code",
   "execution_count": 113,
   "metadata": {},
   "outputs": [
    {
     "data": {
      "text/plain": [
       "<matplotlib.axes._subplots.AxesSubplot at 0x11908b128>"
      ]
     },
     "execution_count": 113,
     "metadata": {},
     "output_type": "execute_result"
    },
    {
     "data": {
      "image/png": "[encoded data removed]",
      "text/plain": [
       "<Figure size 432x288 with 1 Axes>"
      ]
     },
     "metadata": {
      "needs_background": "light"
     },
     "output_type": "display_data"
    }
   ],
   "source": [
    "# VARIABLES TARGET\n",
    "# Afficher le graph des variables target \n",
    "sns.countplot(dfY['status_group'])"
   ]
  },
  {
   "cell_type": "code",
   "execution_count": 196,
   "metadata": {},
   "outputs": [],
   "source": [
    "# VARIABLES MERGED\n",
    "# Merger les datasets\n",
    "training_df = pd.merge(dfX, dfY)"
   ]
  },
  {
   "cell_type": "code",
   "execution_count": 197,
   "metadata": {},
   "outputs": [
    {
     "data": {
      "text/html": [
       "<div>\n",
       "<style scoped>\n",
       "    .dataframe tbody tr th:only-of-type {\n",
       "        vertical-align: middle;\n",
       "    }\n",
       "\n",
       "    .dataframe tbody tr th {\n",
       "        vertical-align: top;\n",
       "    }\n",
       "\n",
       "    .dataframe thead th {\n",
       "        text-align: right;\n",
       "    }\n",
       "</style>\n",
       "<table border=\"1\" class=\"dataframe\">\n",
       "  <thead>\n",
       "    <tr style=\"text-align: right;\">\n",
       "      <th></th>\n",
       "      <th>id</th>\n",
       "      <th>amount_tsh</th>\n",
       "      <th>date_recorded</th>\n",
       "      <th>funder</th>\n",
       "      <th>gps_height</th>\n",
       "      <th>installer</th>\n",
       "      <th>longitude</th>\n",
       "      <th>latitude</th>\n",
       "      <th>wpt_name</th>\n",
       "      <th>num_private</th>\n",
       "      <th>...</th>\n",
       "      <th>water_quality</th>\n",
       "      <th>quality_group</th>\n",
       "      <th>quantity</th>\n",
       "      <th>quantity_group</th>\n",
       "      <th>source</th>\n",
       "      <th>source_type</th>\n",
       "      <th>source_class</th>\n",
       "      <th>waterpoint_type</th>\n",
       "      <th>waterpoint_type_group</th>\n",
       "      <th>status_group</th>\n",
       "    </tr>\n",
       "  </thead>\n",
       "  <tbody>\n",
       "    <tr>\n",
       "      <th>0</th>\n",
       "      <td>69572</td>\n",
       "      <td>6000.0</td>\n",
       "      <td>2011-03-14</td>\n",
       "      <td>Roman</td>\n",
       "      <td>1390</td>\n",
       "      <td>Roman</td>\n",
       "      <td>34.938093</td>\n",
       "      <td>-9.856322</td>\n",
       "      <td>none</td>\n",
       "      <td>0</td>\n",
       "      <td>...</td>\n",
       "      <td>soft</td>\n",
       "      <td>good</td>\n",
       "      <td>enough</td>\n",
       "      <td>enough</td>\n",
       "      <td>spring</td>\n",
       "      <td>spring</td>\n",
       "      <td>groundwater</td>\n",
       "      <td>communal standpipe</td>\n",
       "      <td>communal standpipe</td>\n",
       "      <td>functional</td>\n",
       "    </tr>\n",
       "    <tr>\n",
       "      <th>1</th>\n",
       "      <td>8776</td>\n",
       "      <td>0.0</td>\n",
       "      <td>2013-03-06</td>\n",
       "      <td>Grumeti</td>\n",
       "      <td>1399</td>\n",
       "      <td>GRUMETI</td>\n",
       "      <td>34.698766</td>\n",
       "      <td>-2.147466</td>\n",
       "      <td>Zahanati</td>\n",
       "      <td>0</td>\n",
       "      <td>...</td>\n",
       "      <td>soft</td>\n",
       "      <td>good</td>\n",
       "      <td>insufficient</td>\n",
       "      <td>insufficient</td>\n",
       "      <td>rainwater harvesting</td>\n",
       "      <td>rainwater harvesting</td>\n",
       "      <td>surface</td>\n",
       "      <td>communal standpipe</td>\n",
       "      <td>communal standpipe</td>\n",
       "      <td>functional</td>\n",
       "    </tr>\n",
       "    <tr>\n",
       "      <th>2</th>\n",
       "      <td>34310</td>\n",
       "      <td>25.0</td>\n",
       "      <td>2013-02-25</td>\n",
       "      <td>Lottery Club</td>\n",
       "      <td>686</td>\n",
       "      <td>World vision</td>\n",
       "      <td>37.460664</td>\n",
       "      <td>-3.821329</td>\n",
       "      <td>Kwa Mahundi</td>\n",
       "      <td>0</td>\n",
       "      <td>...</td>\n",
       "      <td>soft</td>\n",
       "      <td>good</td>\n",
       "      <td>enough</td>\n",
       "      <td>enough</td>\n",
       "      <td>dam</td>\n",
       "      <td>dam</td>\n",
       "      <td>surface</td>\n",
       "      <td>communal standpipe multiple</td>\n",
       "      <td>communal standpipe</td>\n",
       "      <td>functional</td>\n",
       "    </tr>\n",
       "    <tr>\n",
       "      <th>3</th>\n",
       "      <td>67743</td>\n",
       "      <td>0.0</td>\n",
       "      <td>2013-01-28</td>\n",
       "      <td>Unicef</td>\n",
       "      <td>263</td>\n",
       "      <td>UNICEF</td>\n",
       "      <td>38.486161</td>\n",
       "      <td>-11.155298</td>\n",
       "      <td>Zahanati Ya Nanyumbu</td>\n",
       "      <td>0</td>\n",
       "      <td>...</td>\n",
       "      <td>soft</td>\n",
       "      <td>good</td>\n",
       "      <td>dry</td>\n",
       "      <td>dry</td>\n",
       "      <td>machine dbh</td>\n",
       "      <td>borehole</td>\n",
       "      <td>groundwater</td>\n",
       "      <td>communal standpipe multiple</td>\n",
       "      <td>communal standpipe</td>\n",
       "      <td>non functional</td>\n",
       "    </tr>\n",
       "    <tr>\n",
       "      <th>4</th>\n",
       "      <td>19728</td>\n",
       "      <td>0.0</td>\n",
       "      <td>2011-07-13</td>\n",
       "      <td>Action In A</td>\n",
       "      <td>0</td>\n",
       "      <td>Artisan</td>\n",
       "      <td>31.130847</td>\n",
       "      <td>-1.825359</td>\n",
       "      <td>Shuleni</td>\n",
       "      <td>0</td>\n",
       "      <td>...</td>\n",
       "      <td>soft</td>\n",
       "      <td>good</td>\n",
       "      <td>seasonal</td>\n",
       "      <td>seasonal</td>\n",
       "      <td>rainwater harvesting</td>\n",
       "      <td>rainwater harvesting</td>\n",
       "      <td>surface</td>\n",
       "      <td>communal standpipe</td>\n",
       "      <td>communal standpipe</td>\n",
       "      <td>functional</td>\n",
       "    </tr>\n",
       "  </tbody>\n",
       "</table>\n",
       "<p>5 rows × 41 columns</p>\n",
       "</div>"
      ],
      "text/plain": [
       "      id  amount_tsh date_recorded        funder  gps_height     installer  \\\n",
       "0  69572      6000.0    2011-03-14         Roman        1390         Roman   \n",
       "1   8776         0.0    2013-03-06       Grumeti        1399       GRUMETI   \n",
       "2  34310        25.0    2013-02-25  Lottery Club         686  World vision   \n",
       "3  67743         0.0    2013-01-28        Unicef         263        UNICEF   \n",
       "4  19728         0.0    2011-07-13   Action In A           0       Artisan   \n",
       "\n",
       "   longitude   latitude              wpt_name  num_private       ...        \\\n",
       "0  34.938093  -9.856322                  none            0       ...         \n",
       "1  34.698766  -2.147466              Zahanati            0       ...         \n",
       "2  37.460664  -3.821329           Kwa Mahundi            0       ...         \n",
       "3  38.486161 -11.155298  Zahanati Ya Nanyumbu            0       ...         \n",
       "4  31.130847  -1.825359               Shuleni            0       ...         \n",
       "\n",
       "  water_quality quality_group      quantity  quantity_group  \\\n",
       "0          soft          good        enough          enough   \n",
       "1          soft          good  insufficient    insufficient   \n",
       "2          soft          good        enough          enough   \n",
       "3          soft          good           dry             dry   \n",
       "4          soft          good      seasonal        seasonal   \n",
       "\n",
       "                 source           source_type source_class  \\\n",
       "0                spring                spring  groundwater   \n",
       "1  rainwater harvesting  rainwater harvesting      surface   \n",
       "2                   dam                   dam      surface   \n",
       "3           machine dbh              borehole  groundwater   \n",
       "4  rainwater harvesting  rainwater harvesting      surface   \n",
       "\n",
       "               waterpoint_type waterpoint_type_group    status_group  \n",
       "0           communal standpipe    communal standpipe      functional  \n",
       "1           communal standpipe    communal standpipe      functional  \n",
       "2  communal standpipe multiple    communal standpipe      functional  \n",
       "3  communal standpipe multiple    communal standpipe  non functional  \n",
       "4           communal standpipe    communal standpipe      functional  \n",
       "\n",
       "[5 rows x 41 columns]"
      ]
     },
     "execution_count": 197,
     "metadata": {},
     "output_type": "execute_result"
    }
   ],
   "source": [
    "# VARIABLES MERGED\n",
    "# Afficher les 5 premières lignes de ce dataset mergé\n",
    "training_df.head(5)"
   ]
  },
  {
   "cell_type": "code",
   "execution_count": 198,
   "metadata": {},
   "outputs": [
    {
     "name": "stdout",
     "output_type": "stream",
     "text": [
      "<class 'pandas.core.frame.DataFrame'>\n",
      "Int64Index: 59400 entries, 0 to 59399\n",
      "Data columns (total 41 columns):\n",
      "id                       59400 non-null int64\n",
      "amount_tsh               59400 non-null float64\n",
      "date_recorded            59400 non-null object\n",
      "funder                   55765 non-null object\n",
      "gps_height               59400 non-null int64\n",
      "installer                55745 non-null object\n",
      "longitude                59400 non-null float64\n",
      "latitude                 59400 non-null float64\n",
      "wpt_name                 59400 non-null object\n",
      "num_private              59400 non-null int64\n",
      "basin                    59400 non-null object\n",
      "subvillage               59029 non-null object\n",
      "region                   59400 non-null object\n",
      "region_code              59400 non-null int64\n",
      "district_code            59400 non-null int64\n",
      "lga                      59400 non-null object\n",
      "ward                     59400 non-null object\n",
      "population               59400 non-null int64\n",
      "public_meeting           56066 non-null object\n",
      "recorded_by              59400 non-null object\n",
      "scheme_management        55523 non-null object\n",
      "scheme_name              31234 non-null object\n",
      "permit                   56344 non-null object\n",
      "construction_year        59400 non-null int64\n",
      "extraction_type          59400 non-null object\n",
      "extraction_type_group    59400 non-null object\n",
      "extraction_type_class    59400 non-null object\n",
      "management               59400 non-null object\n",
      "management_group         59400 non-null object\n",
      "payment                  59400 non-null object\n",
      "payment_type             59400 non-null object\n",
      "water_quality            59400 non-null object\n",
      "quality_group            59400 non-null object\n",
      "quantity                 59400 non-null object\n",
      "quantity_group           59400 non-null object\n",
      "source                   59400 non-null object\n",
      "source_type              59400 non-null object\n",
      "source_class             59400 non-null object\n",
      "waterpoint_type          59400 non-null object\n",
      "waterpoint_type_group    59400 non-null object\n",
      "status_group             59400 non-null object\n",
      "dtypes: float64(3), int64(7), object(31)\n",
      "memory usage: 19.0+ MB\n"
     ]
    }
   ],
   "source": [
    "# VARIABLES MERGED\n",
    "# Afficher les infos du dataset mergé\n",
    "training_df.info()"
   ]
  },
  {
   "cell_type": "code",
   "execution_count": 199,
   "metadata": {},
   "outputs": [],
   "source": [
    "# VARIABLES MERGED\n",
    "# Supprimer les colonnes qui ne sont pas nécessaires\n",
    "training_df = training_df.drop(['id','wpt_name', 'num_private', 'region','lga','ward'],axis = 1)\n",
    "training_df = training_df.drop(['extraction_type_group','extraction_type_class',\n",
    "                    'management','payment','quality_group','quantity','source'],axis = 1)"
   ]
  },
  {
   "cell_type": "code",
   "execution_count": 200,
   "metadata": {},
   "outputs": [
    {
     "name": "stdout",
     "output_type": "stream",
     "text": [
      "['id', 'amount_tsh', 'date_recorded', 'funder', 'gps_height', 'installer', 'longitude', 'latitude', 'wpt_name', 'num_private', 'basin', 'subvillage', 'region', 'region_code', 'district_code', 'lga', 'ward', 'population', 'public_meeting', 'recorded_by', 'scheme_management', 'scheme_name', 'permit', 'construction_year', 'extraction_type', 'extraction_type_group', 'extraction_type_class', 'management', 'management_group', 'payment', 'payment_type', 'water_quality', 'quality_group', 'quantity', 'quantity_group', 'source', 'source_type', 'source_class', 'waterpoint_type', 'waterpoint_type_group']\n"
     ]
    }
   ],
   "source": [
    "# VARIABLES MERGED\n",
    "# Lister toutes les features du dataset dfX\n",
    "print (dfX.columns.tolist())"
   ]
  },
  {
   "cell_type": "code",
   "execution_count": 201,
   "metadata": {},
   "outputs": [
    {
     "name": "stdout",
     "output_type": "stream",
     "text": [
      "['amount_tsh', 'date_recorded', 'funder', 'gps_height', 'installer', 'longitude', 'latitude', 'basin', 'subvillage', 'region_code', 'district_code', 'population', 'public_meeting', 'recorded_by', 'scheme_management', 'scheme_name', 'permit', 'construction_year', 'extraction_type', 'management_group', 'payment_type', 'water_quality', 'quantity_group', 'source_type', 'source_class', 'waterpoint_type', 'waterpoint_type_group', 'status_group']\n"
     ]
    }
   ],
   "source": [
    "# VARIABLES MERGED\n",
    "# Lister toutes les features gardées du dataset mergé\n",
    "print (training_df.columns.tolist())"
   ]
  },
  {
   "cell_type": "code",
   "execution_count": 205,
   "metadata": {},
   "outputs": [
    {
     "data": {
      "text/plain": [
       "amount_tsh                   0\n",
       "date_recorded                0\n",
       "funder                    3635\n",
       "gps_height                   0\n",
       "installer                 3655\n",
       "longitude                    0\n",
       "latitude                     0\n",
       "basin                        0\n",
       "subvillage                 371\n",
       "region_code                  0\n",
       "district_code                0\n",
       "population                   0\n",
       "public_meeting            3334\n",
       "recorded_by                  0\n",
       "scheme_management         3877\n",
       "scheme_name              28166\n",
       "permit                    3056\n",
       "construction_year            0\n",
       "extraction_type              0\n",
       "management_group             0\n",
       "payment_type                 0\n",
       "water_quality                0\n",
       "quantity_group               0\n",
       "source_type                  0\n",
       "source_class                 0\n",
       "waterpoint_type              0\n",
       "waterpoint_type_group        0\n",
       "status_group                 0\n",
       "dtype: int64"
      ]
     },
     "execution_count": 205,
     "metadata": {},
     "output_type": "execute_result"
    }
   ],
   "source": [
    "# VARIABLES MERGED\n",
    "# Afficher le nombre de valeurs nulles ou manquantes par colonnes\n",
    "training_df.apply(lambda x: sum(x.isnull()))"
   ]
  },
  {
   "cell_type": "code",
   "execution_count": 151,
   "metadata": {
    "scrolled": false
   },
   "outputs": [
    {
     "name": "stdout",
     "output_type": "stream",
     "text": [
      "amount_tsh 0.0 70.0\n",
      "amount_tsh 500.0 5.2\n",
      "amount_tsh 50.0 4.1\n",
      "amount_tsh 1000.0 2.5\n",
      "amount_tsh 20.0 2.4\n",
      "date_recorded 2011-03-15 0.9\n",
      "date_recorded 2011-03-17 0.9\n",
      "date_recorded 2013-02-03 0.9\n",
      "date_recorded 2011-03-14 0.8\n",
      "date_recorded 2011-03-16 0.8\n",
      "funder Government Of Tanzania 16.2\n",
      "funder Danida 5.5\n",
      "funder Hesawa 3.9\n",
      "funder Rwssp 2.4\n",
      "funder World Bank 2.4\n",
      "gps_height 0 34.4\n",
      "gps_height -15 0.1\n",
      "gps_height -16 0.0\n",
      "gps_height -13 0.0\n",
      "gps_height -20 0.0\n",
      "installer DWE 31.2\n",
      "installer Government 3.2\n",
      "installer RWE 2.1\n",
      "installer Commu 1.9\n",
      "installer DANIDA 1.8\n",
      "longitude 0.0 3.0\n",
      "longitude 37.54090064 0.0\n",
      "longitude 33.01050977 0.0\n",
      "longitude 39.09348389 0.0\n",
      "longitude 32.972718699999994 0.0\n",
      "latitude -2e-08 3.0\n",
      "latitude -6.98584173 0.0\n",
      "latitude -3.79757861 0.0\n",
      "latitude -6.98188419 0.0\n",
      "latitude -7.10462503 0.0\n",
      "basin Lake Victoria 17.2\n",
      "basin Pangani 15.0\n",
      "basin Rufiji 13.4\n",
      "basin Internal 13.1\n",
      "basin Lake Tanganyika 10.8\n",
      "subvillage Madukani 0.8\n",
      "subvillage Shuleni 0.8\n",
      "subvillage Majengo 0.8\n",
      "subvillage Kati 0.6\n",
      "subvillage Mtakuja 0.4\n",
      "region_code 11 8.9\n",
      "region_code 17 8.4\n",
      "region_code 12 7.8\n",
      "region_code 3 7.3\n",
      "region_code 5 6.8\n",
      "district_code 1 20.5\n",
      "district_code 2 18.8\n",
      "district_code 3 16.8\n",
      "district_code 4 15.1\n",
      "district_code 5 7.3\n",
      "population 0 35.9\n",
      "population 1 11.8\n",
      "population 200 3.2\n",
      "population 150 3.1\n",
      "population 250 2.8\n",
      "public_meeting True 90.9\n",
      "public_meeting False 9.0\n",
      "recorded_by GeoData Consultants Ltd 100.0\n",
      "scheme_management VWC 66.2\n",
      "scheme_management WUG 9.3\n",
      "scheme_management Water authority 5.6\n",
      "scheme_management WUA 5.1\n",
      "scheme_management Water Board 4.9\n",
      "scheme_name K 2.1\n",
      "scheme_name None 2.0\n",
      "scheme_name Borehole 1.7\n",
      "scheme_name Chalinze wate 1.2\n",
      "scheme_name M 1.2\n",
      "permit True 68.9\n",
      "permit False 31.0\n",
      "construction_year 0 34.8\n",
      "construction_year 2010 4.4\n",
      "construction_year 2008 4.3\n",
      "construction_year 2009 4.2\n",
      "construction_year 2000 3.5\n",
      "extraction_type gravity 45.0\n",
      "extraction_type nira/tanira 13.7\n",
      "extraction_type other 10.8\n",
      "extraction_type submersible 8.0\n",
      "extraction_type swn 80 6.1\n",
      "management_group user-group 88.3\n",
      "management_group commercial 6.1\n",
      "management_group parastatal 2.9\n",
      "management_group other 1.5\n",
      "management_group unknown 0.9\n",
      "payment_type never pay 42.6\n",
      "payment_type per bucket 15.1\n",
      "payment_type monthly 13.9\n",
      "payment_type unknown 13.7\n",
      "payment_type on failure 6.5\n",
      "water_quality soft 85.5\n",
      "water_quality salty 8.1\n",
      "water_quality unknown 3.1\n",
      "water_quality milky 1.3\n",
      "water_quality coloured 0.8\n",
      "quantity_group enough 55.8\n",
      "quantity_group insufficient 25.4\n",
      "quantity_group dry 10.5\n",
      "quantity_group seasonal 6.8\n",
      "quantity_group unknown 1.3\n",
      "source_type spring 28.6\n",
      "source_type shallow well 28.3\n",
      "source_type borehole 20.1\n",
      "source_type river/lake 17.4\n",
      "source_type rainwater harvesting 3.8\n",
      "source_class groundwater 77.0\n",
      "source_class surface 22.4\n",
      "source_class unknown 0.4\n",
      "waterpoint_type communal standpipe 48.0\n",
      "waterpoint_type hand pump 29.4\n",
      "waterpoint_type other 10.7\n",
      "waterpoint_type communal standpipe multiple 10.2\n",
      "waterpoint_type improved spring 1.3\n",
      "waterpoint_type_group communal standpipe 58.2\n",
      "waterpoint_type_group hand pump 29.4\n",
      "waterpoint_type_group other 10.7\n",
      "waterpoint_type_group improved spring 1.3\n",
      "waterpoint_type_group cattle trough 0.1\n",
      "status_group functional 54.3\n",
      "status_group non functional 38.4\n",
      "status_group functional needs repair 7.2\n"
     ]
    }
   ],
   "source": [
    "# VARIABLES MERGED\n",
    "# Afficher les (5) valeurs les plus fréquentes dans chaque features\n",
    "for col in training_df.columns:\n",
    "    cs = training_df[col].value_counts(normalize=True, sort=True, ascending=False)\n",
    "    for k in cs.keys()[0:5]:\n",
    "        print( col, k, int(cs[k]*1000)/10.)"
   ]
  },
  {
   "cell_type": "code",
   "execution_count": 206,
   "metadata": {},
   "outputs": [
    {
     "name": "stdout",
     "output_type": "stream",
     "text": [
      "funder Government Of Tanzania 16.2\n",
      "funder Danida 5.5\n",
      "funder Hesawa 3.9\n",
      "funder Rwssp 2.4\n",
      "funder World Bank 2.4\n",
      "funder Kkkt 2.3\n",
      "funder World Vision 2.2\n",
      "funder Unicef 1.8\n",
      "funder Tasaf 1.5\n",
      "funder District Council 1.5\n"
     ]
    }
   ],
   "source": [
    "# VARIABLES MERGED\n",
    "# Afficher les (10) valeurs les plus fréquentes dans la feature 'funder'\n",
    "cs = training_df['funder'].value_counts(normalize=True, sort=True, ascending=False)\n",
    "for k in cs.keys()[0:10]:\n",
    "    print( 'funder', k, int(cs[k]*1000)/10.)"
   ]
  },
  {
   "cell_type": "code",
   "execution_count": 207,
   "metadata": {},
   "outputs": [
    {
     "name": "stdout",
     "output_type": "stream",
     "text": [
      "Government Of Tanzania    9084\n",
      "Danida                    3114\n",
      "Hesawa                    2202\n",
      "Rwssp                     1374\n",
      "World Bank                1349\n",
      "Kkkt                      1287\n",
      "World Vision              1246\n",
      "Unicef                    1057\n",
      "Tasaf                      877\n",
      "District Council           843\n",
      "Name: funder, dtype: int64\n"
     ]
    }
   ],
   "source": [
    "# VARIABLES MERGED\n",
    "# Afficher les (10) valeurs les plus fréquentes dans la feature 'funder'\n",
    "print (training_df.funder.value_counts().head(10))"
   ]
  },
  {
   "cell_type": "code",
   "execution_count": 208,
   "metadata": {},
   "outputs": [],
   "source": [
    "# VARIABLES MERGED\n",
    "# Garder les 10 valeurs les plus fréquentes et remplacer les autres par \"other\"\n",
    "def funder_cl(row):  \n",
    "    if row['funder']=='Government Of Tanzania':\n",
    "        return 'gov'\n",
    "    elif row['funder']=='Danida':\n",
    "        return 'danida'\n",
    "    elif row['funder']=='Hesawa':\n",
    "        return 'hesawa'\n",
    "    elif row['funder']=='Rwssp':\n",
    "        return 'rwssp'\n",
    "    elif row['funder']=='World Bank':\n",
    "        return 'world_bank'    \n",
    "    elif row['funder']=='Kkkt':\n",
    "        return 'Kkkt'\n",
    "    elif row['funder']=='World Vision':\n",
    "        return 'World Vision'\n",
    "    elif row['funder']=='Unicef':\n",
    "        return 'Unicef'\n",
    "    elif row['funder']=='Tasaf':\n",
    "        return 'Tasaf'\n",
    "    elif row['funder']=='District Council':\n",
    "        return 'District Council'\n",
    "    else:\n",
    "        return 'other'\n",
    "    \n",
    "training_df['funder'] = training_df.apply(lambda row: funder_cl(row), axis=1)"
   ]
  },
  {
   "cell_type": "code",
   "execution_count": 209,
   "metadata": {},
   "outputs": [
    {
     "data": {
      "text/plain": [
       "0               other\n",
       "1               other\n",
       "2               other\n",
       "3              Unicef\n",
       "4               other\n",
       "5               other\n",
       "6               other\n",
       "7               rwssp\n",
       "8               other\n",
       "9               other\n",
       "10              other\n",
       "11             danida\n",
       "12       World Vision\n",
       "13              other\n",
       "14              other\n",
       "15              other\n",
       "16             Unicef\n",
       "17             Unicef\n",
       "18             hesawa\n",
       "19             danida\n",
       "20              other\n",
       "21              other\n",
       "22             Unicef\n",
       "23              other\n",
       "24              other\n",
       "25                gov\n",
       "26              other\n",
       "27             hesawa\n",
       "28                gov\n",
       "29              other\n",
       "             ...     \n",
       "59370           other\n",
       "59371           other\n",
       "59372           other\n",
       "59373           other\n",
       "59374           rwssp\n",
       "59375             gov\n",
       "59376           other\n",
       "59377             gov\n",
       "59378           other\n",
       "59379           other\n",
       "59380           other\n",
       "59381           other\n",
       "59382           other\n",
       "59383      world_bank\n",
       "59384           other\n",
       "59385           other\n",
       "59386           other\n",
       "59387           other\n",
       "59388           other\n",
       "59389           other\n",
       "59390           other\n",
       "59391             gov\n",
       "59392             gov\n",
       "59393           other\n",
       "59394      world_bank\n",
       "59395           other\n",
       "59396           other\n",
       "59397           other\n",
       "59398           other\n",
       "59399      world_bank\n",
       "Name: funder, Length: 59400, dtype: object"
      ]
     },
     "execution_count": 209,
     "metadata": {},
     "output_type": "execute_result"
    }
   ],
   "source": [
    "# VARIABLES MERGED\n",
    "# Vérifier que les modifications sont bien présentes\n",
    "training_df['funder']"
   ]
  },
  {
   "cell_type": "code",
   "execution_count": 210,
   "metadata": {},
   "outputs": [
    {
     "name": "stdout",
     "output_type": "stream",
     "text": [
      "other               36967\n",
      "gov                  9084\n",
      "danida               3114\n",
      "hesawa               2202\n",
      "rwssp                1374\n",
      "world_bank           1349\n",
      "Kkkt                 1287\n",
      "World Vision         1246\n",
      "Unicef               1057\n",
      "Tasaf                 877\n",
      "District Council      843\n",
      "Name: funder, dtype: int64\n"
     ]
    }
   ],
   "source": [
    "# VARIABLES MERGED\n",
    "# Vérifier que les modifications sont bien présentes\n",
    "# Il y a bien seulement 11 valeurs\n",
    "print (training_df.funder.value_counts().head(12))"
   ]
  },
  {
   "cell_type": "code",
   "execution_count": 243,
   "metadata": {},
   "outputs": [
    {
     "data": {
      "text/plain": [
       "<matplotlib.axes._subplots.AxesSubplot at 0x1a24e390b8>"
      ]
     },
     "execution_count": 243,
     "metadata": {},
     "output_type": "execute_result"
    },
    {
     "data": {
      "image/png": "[encoded data removed]",
      "text/plain": [
       "<Figure size 432x288 with 1 Axes>"
      ]
     },
     "metadata": {
      "needs_background": "light"
     },
     "output_type": "display_data"
    }
   ],
   "source": [
    "# Afficher le graph du nombre de valeur pour chaque funder \n",
    "sns.countplot(training_df.funder)"
   ]
  },
  {
   "cell_type": "code",
   "execution_count": 212,
   "metadata": {},
   "outputs": [],
   "source": [
    "# VARIABLES MERGED\n",
    "# Remplacer les variables target par des valeurs numériques pour faire un PIVOT TABLE\n",
    "# 1/ Définir les valeurs de remplacement\n",
    "replace_values = {'functional':2, 'functional needs repair':1, 'non functional':0}\n",
    "# 2/ Créer la colonne 'status_values' en remplaçant les valeurs de status_group par les valeurs de replace_values\n",
    "training_df['status_values']  = training_df.status_group.replace(replace_values)"
   ]
  },
  {
   "cell_type": "code",
   "execution_count": 213,
   "metadata": {},
   "outputs": [],
   "source": [
    "# EQUIVALENT À\n",
    "training_df['status_values']  = training_df.status_group.replace({'functional':2, 'functional needs repair':1, 'non functional':0})"
   ]
  },
  {
   "cell_type": "code",
   "execution_count": 214,
   "metadata": {},
   "outputs": [
    {
     "data": {
      "text/html": [
       "<div>\n",
       "<style scoped>\n",
       "    .dataframe tbody tr th:only-of-type {\n",
       "        vertical-align: middle;\n",
       "    }\n",
       "\n",
       "    .dataframe tbody tr th {\n",
       "        vertical-align: top;\n",
       "    }\n",
       "\n",
       "    .dataframe thead th {\n",
       "        text-align: right;\n",
       "    }\n",
       "</style>\n",
       "<table border=\"1\" class=\"dataframe\">\n",
       "  <thead>\n",
       "    <tr style=\"text-align: right;\">\n",
       "      <th></th>\n",
       "      <th>amount_tsh</th>\n",
       "      <th>date_recorded</th>\n",
       "      <th>funder</th>\n",
       "      <th>gps_height</th>\n",
       "      <th>installer</th>\n",
       "      <th>longitude</th>\n",
       "      <th>latitude</th>\n",
       "      <th>basin</th>\n",
       "      <th>subvillage</th>\n",
       "      <th>region_code</th>\n",
       "      <th>...</th>\n",
       "      <th>management_group</th>\n",
       "      <th>payment_type</th>\n",
       "      <th>water_quality</th>\n",
       "      <th>quantity_group</th>\n",
       "      <th>source_type</th>\n",
       "      <th>source_class</th>\n",
       "      <th>waterpoint_type</th>\n",
       "      <th>waterpoint_type_group</th>\n",
       "      <th>status_group</th>\n",
       "      <th>status_values</th>\n",
       "    </tr>\n",
       "  </thead>\n",
       "  <tbody>\n",
       "    <tr>\n",
       "      <th>0</th>\n",
       "      <td>6000.0</td>\n",
       "      <td>2011-03-14</td>\n",
       "      <td>other</td>\n",
       "      <td>1390</td>\n",
       "      <td>Roman</td>\n",
       "      <td>34.938093</td>\n",
       "      <td>-9.856322</td>\n",
       "      <td>Lake Nyasa</td>\n",
       "      <td>Mnyusi B</td>\n",
       "      <td>11</td>\n",
       "      <td>...</td>\n",
       "      <td>user-group</td>\n",
       "      <td>annually</td>\n",
       "      <td>soft</td>\n",
       "      <td>enough</td>\n",
       "      <td>spring</td>\n",
       "      <td>groundwater</td>\n",
       "      <td>communal standpipe</td>\n",
       "      <td>communal standpipe</td>\n",
       "      <td>functional</td>\n",
       "      <td>2</td>\n",
       "    </tr>\n",
       "    <tr>\n",
       "      <th>1</th>\n",
       "      <td>0.0</td>\n",
       "      <td>2013-03-06</td>\n",
       "      <td>other</td>\n",
       "      <td>1399</td>\n",
       "      <td>GRUMETI</td>\n",
       "      <td>34.698766</td>\n",
       "      <td>-2.147466</td>\n",
       "      <td>Lake Victoria</td>\n",
       "      <td>Nyamara</td>\n",
       "      <td>20</td>\n",
       "      <td>...</td>\n",
       "      <td>user-group</td>\n",
       "      <td>never pay</td>\n",
       "      <td>soft</td>\n",
       "      <td>insufficient</td>\n",
       "      <td>rainwater harvesting</td>\n",
       "      <td>surface</td>\n",
       "      <td>communal standpipe</td>\n",
       "      <td>communal standpipe</td>\n",
       "      <td>functional</td>\n",
       "      <td>2</td>\n",
       "    </tr>\n",
       "    <tr>\n",
       "      <th>2</th>\n",
       "      <td>25.0</td>\n",
       "      <td>2013-02-25</td>\n",
       "      <td>other</td>\n",
       "      <td>686</td>\n",
       "      <td>World vision</td>\n",
       "      <td>37.460664</td>\n",
       "      <td>-3.821329</td>\n",
       "      <td>Pangani</td>\n",
       "      <td>Majengo</td>\n",
       "      <td>21</td>\n",
       "      <td>...</td>\n",
       "      <td>user-group</td>\n",
       "      <td>per bucket</td>\n",
       "      <td>soft</td>\n",
       "      <td>enough</td>\n",
       "      <td>dam</td>\n",
       "      <td>surface</td>\n",
       "      <td>communal standpipe multiple</td>\n",
       "      <td>communal standpipe</td>\n",
       "      <td>functional</td>\n",
       "      <td>2</td>\n",
       "    </tr>\n",
       "    <tr>\n",
       "      <th>3</th>\n",
       "      <td>0.0</td>\n",
       "      <td>2013-01-28</td>\n",
       "      <td>Unicef</td>\n",
       "      <td>263</td>\n",
       "      <td>UNICEF</td>\n",
       "      <td>38.486161</td>\n",
       "      <td>-11.155298</td>\n",
       "      <td>Ruvuma / Southern Coast</td>\n",
       "      <td>Mahakamani</td>\n",
       "      <td>90</td>\n",
       "      <td>...</td>\n",
       "      <td>user-group</td>\n",
       "      <td>never pay</td>\n",
       "      <td>soft</td>\n",
       "      <td>dry</td>\n",
       "      <td>borehole</td>\n",
       "      <td>groundwater</td>\n",
       "      <td>communal standpipe multiple</td>\n",
       "      <td>communal standpipe</td>\n",
       "      <td>non functional</td>\n",
       "      <td>0</td>\n",
       "    </tr>\n",
       "    <tr>\n",
       "      <th>4</th>\n",
       "      <td>0.0</td>\n",
       "      <td>2011-07-13</td>\n",
       "      <td>other</td>\n",
       "      <td>0</td>\n",
       "      <td>Artisan</td>\n",
       "      <td>31.130847</td>\n",
       "      <td>-1.825359</td>\n",
       "      <td>Lake Victoria</td>\n",
       "      <td>Kyanyamisa</td>\n",
       "      <td>18</td>\n",
       "      <td>...</td>\n",
       "      <td>other</td>\n",
       "      <td>never pay</td>\n",
       "      <td>soft</td>\n",
       "      <td>seasonal</td>\n",
       "      <td>rainwater harvesting</td>\n",
       "      <td>surface</td>\n",
       "      <td>communal standpipe</td>\n",
       "      <td>communal standpipe</td>\n",
       "      <td>functional</td>\n",
       "      <td>2</td>\n",
       "    </tr>\n",
       "    <tr>\n",
       "      <th>5</th>\n",
       "      <td>20.0</td>\n",
       "      <td>2011-03-13</td>\n",
       "      <td>other</td>\n",
       "      <td>0</td>\n",
       "      <td>DWE</td>\n",
       "      <td>39.172796</td>\n",
       "      <td>-4.765587</td>\n",
       "      <td>Pangani</td>\n",
       "      <td>Moa/Mwereme</td>\n",
       "      <td>4</td>\n",
       "      <td>...</td>\n",
       "      <td>user-group</td>\n",
       "      <td>per bucket</td>\n",
       "      <td>salty</td>\n",
       "      <td>enough</td>\n",
       "      <td>other</td>\n",
       "      <td>unknown</td>\n",
       "      <td>communal standpipe multiple</td>\n",
       "      <td>communal standpipe</td>\n",
       "      <td>functional</td>\n",
       "      <td>2</td>\n",
       "    </tr>\n",
       "    <tr>\n",
       "      <th>6</th>\n",
       "      <td>0.0</td>\n",
       "      <td>2012-10-01</td>\n",
       "      <td>other</td>\n",
       "      <td>0</td>\n",
       "      <td>DWSP</td>\n",
       "      <td>33.362410</td>\n",
       "      <td>-3.766365</td>\n",
       "      <td>Internal</td>\n",
       "      <td>Ishinabulandi</td>\n",
       "      <td>17</td>\n",
       "      <td>...</td>\n",
       "      <td>user-group</td>\n",
       "      <td>never pay</td>\n",
       "      <td>soft</td>\n",
       "      <td>enough</td>\n",
       "      <td>borehole</td>\n",
       "      <td>groundwater</td>\n",
       "      <td>hand pump</td>\n",
       "      <td>hand pump</td>\n",
       "      <td>non functional</td>\n",
       "      <td>0</td>\n",
       "    </tr>\n",
       "    <tr>\n",
       "      <th>7</th>\n",
       "      <td>0.0</td>\n",
       "      <td>2012-10-09</td>\n",
       "      <td>rwssp</td>\n",
       "      <td>0</td>\n",
       "      <td>DWE</td>\n",
       "      <td>32.620617</td>\n",
       "      <td>-4.226198</td>\n",
       "      <td>Lake Tanganyika</td>\n",
       "      <td>Nyawishi Center</td>\n",
       "      <td>17</td>\n",
       "      <td>...</td>\n",
       "      <td>user-group</td>\n",
       "      <td>unknown</td>\n",
       "      <td>milky</td>\n",
       "      <td>enough</td>\n",
       "      <td>shallow well</td>\n",
       "      <td>groundwater</td>\n",
       "      <td>hand pump</td>\n",
       "      <td>hand pump</td>\n",
       "      <td>non functional</td>\n",
       "      <td>0</td>\n",
       "    </tr>\n",
       "    <tr>\n",
       "      <th>8</th>\n",
       "      <td>0.0</td>\n",
       "      <td>2012-11-03</td>\n",
       "      <td>other</td>\n",
       "      <td>0</td>\n",
       "      <td>Water Aid</td>\n",
       "      <td>32.711100</td>\n",
       "      <td>-5.146712</td>\n",
       "      <td>Lake Tanganyika</td>\n",
       "      <td>Imalauduki</td>\n",
       "      <td>14</td>\n",
       "      <td>...</td>\n",
       "      <td>user-group</td>\n",
       "      <td>never pay</td>\n",
       "      <td>salty</td>\n",
       "      <td>seasonal</td>\n",
       "      <td>borehole</td>\n",
       "      <td>groundwater</td>\n",
       "      <td>hand pump</td>\n",
       "      <td>hand pump</td>\n",
       "      <td>non functional</td>\n",
       "      <td>0</td>\n",
       "    </tr>\n",
       "    <tr>\n",
       "      <th>9</th>\n",
       "      <td>0.0</td>\n",
       "      <td>2011-08-03</td>\n",
       "      <td>other</td>\n",
       "      <td>0</td>\n",
       "      <td>Artisan</td>\n",
       "      <td>30.626991</td>\n",
       "      <td>-1.257051</td>\n",
       "      <td>Lake Victoria</td>\n",
       "      <td>Mkonomre</td>\n",
       "      <td>18</td>\n",
       "      <td>...</td>\n",
       "      <td>user-group</td>\n",
       "      <td>never pay</td>\n",
       "      <td>soft</td>\n",
       "      <td>enough</td>\n",
       "      <td>shallow well</td>\n",
       "      <td>groundwater</td>\n",
       "      <td>hand pump</td>\n",
       "      <td>hand pump</td>\n",
       "      <td>functional</td>\n",
       "      <td>2</td>\n",
       "    </tr>\n",
       "  </tbody>\n",
       "</table>\n",
       "<p>10 rows × 29 columns</p>\n",
       "</div>"
      ],
      "text/plain": [
       "   amount_tsh date_recorded  funder  gps_height     installer  longitude  \\\n",
       "0      6000.0    2011-03-14   other        1390         Roman  34.938093   \n",
       "1         0.0    2013-03-06   other        1399       GRUMETI  34.698766   \n",
       "2        25.0    2013-02-25   other         686  World vision  37.460664   \n",
       "3         0.0    2013-01-28  Unicef         263        UNICEF  38.486161   \n",
       "4         0.0    2011-07-13   other           0       Artisan  31.130847   \n",
       "5        20.0    2011-03-13   other           0           DWE  39.172796   \n",
       "6         0.0    2012-10-01   other           0          DWSP  33.362410   \n",
       "7         0.0    2012-10-09   rwssp           0           DWE  32.620617   \n",
       "8         0.0    2012-11-03   other           0     Water Aid  32.711100   \n",
       "9         0.0    2011-08-03   other           0       Artisan  30.626991   \n",
       "\n",
       "    latitude                    basin       subvillage  region_code  \\\n",
       "0  -9.856322               Lake Nyasa         Mnyusi B           11   \n",
       "1  -2.147466            Lake Victoria          Nyamara           20   \n",
       "2  -3.821329                  Pangani          Majengo           21   \n",
       "3 -11.155298  Ruvuma / Southern Coast       Mahakamani           90   \n",
       "4  -1.825359            Lake Victoria       Kyanyamisa           18   \n",
       "5  -4.765587                  Pangani      Moa/Mwereme            4   \n",
       "6  -3.766365                 Internal    Ishinabulandi           17   \n",
       "7  -4.226198          Lake Tanganyika  Nyawishi Center           17   \n",
       "8  -5.146712          Lake Tanganyika       Imalauduki           14   \n",
       "9  -1.257051            Lake Victoria         Mkonomre           18   \n",
       "\n",
       "       ...       management_group  payment_type water_quality quantity_group  \\\n",
       "0      ...             user-group      annually          soft         enough   \n",
       "1      ...             user-group     never pay          soft   insufficient   \n",
       "2      ...             user-group    per bucket          soft         enough   \n",
       "3      ...             user-group     never pay          soft            dry   \n",
       "4      ...                  other     never pay          soft       seasonal   \n",
       "5      ...             user-group    per bucket         salty         enough   \n",
       "6      ...             user-group     never pay          soft         enough   \n",
       "7      ...             user-group       unknown         milky         enough   \n",
       "8      ...             user-group     never pay         salty       seasonal   \n",
       "9      ...             user-group     never pay          soft         enough   \n",
       "\n",
       "            source_type source_class              waterpoint_type  \\\n",
       "0                spring  groundwater           communal standpipe   \n",
       "1  rainwater harvesting      surface           communal standpipe   \n",
       "2                   dam      surface  communal standpipe multiple   \n",
       "3              borehole  groundwater  communal standpipe multiple   \n",
       "4  rainwater harvesting      surface           communal standpipe   \n",
       "5                 other      unknown  communal standpipe multiple   \n",
       "6              borehole  groundwater                    hand pump   \n",
       "7          shallow well  groundwater                    hand pump   \n",
       "8              borehole  groundwater                    hand pump   \n",
       "9          shallow well  groundwater                    hand pump   \n",
       "\n",
       "   waterpoint_type_group    status_group status_values  \n",
       "0     communal standpipe      functional             2  \n",
       "1     communal standpipe      functional             2  \n",
       "2     communal standpipe      functional             2  \n",
       "3     communal standpipe  non functional             0  \n",
       "4     communal standpipe      functional             2  \n",
       "5     communal standpipe      functional             2  \n",
       "6              hand pump  non functional             0  \n",
       "7              hand pump  non functional             0  \n",
       "8              hand pump  non functional             0  \n",
       "9              hand pump      functional             2  \n",
       "\n",
       "[10 rows x 29 columns]"
      ]
     },
     "execution_count": 214,
     "metadata": {},
     "output_type": "execute_result"
    }
   ],
   "source": [
    "training_df.head(10)"
   ]
  },
  {
   "cell_type": "code",
   "execution_count": 215,
   "metadata": {},
   "outputs": [
    {
     "name": "stdout",
     "output_type": "stream",
     "text": [
      "                 status_values                                       \n",
      "status_group        functional functional needs repair non functional\n",
      "funder                                                               \n",
      "District Council           378                      45            420\n",
      "Kkkt                       723                      66            498\n",
      "Tasaf                      493                      64            320\n",
      "Unicef                     600                      99            358\n",
      "World Vision               743                     131            372\n",
      "danida                    1713                     159           1242\n",
      "gov                       3720                     701           4663\n",
      "hesawa                     936                     232           1034\n",
      "other                    21603                    2614          12750\n",
      "rwssp                      805                     109            460\n",
      "world_bank                 545                      97            707\n"
     ]
    }
   ],
   "source": [
    "# VARIABLES MERGED\n",
    "# créer le tableau croisé dynamique\n",
    "# Le dataframe est piv_df= training_df[['funder','status_group','status_values']]\n",
    "# La valeur a faire passer dans la fonction est \"status_values\"\n",
    "# En fonction de la colonne \"funder\"\n",
    "# la fonction est \"count\"\n",
    "piv_df= training_df[['funder','status_group','status_values']]\n",
    "piv_table = pd.pivot_table(piv_df, index='funder',\n",
    "                           columns='status_group', aggfunc='count')\n",
    "print (piv_table)"
   ]
  },
  {
   "cell_type": "code",
   "execution_count": 290,
   "metadata": {},
   "outputs": [
    {
     "data": {
      "image/png": "[encoded data removed]",
      "text/plain": [
       "<Figure size 1152x576 with 1 Axes>"
      ]
     },
     "metadata": {
      "needs_background": "light"
     },
     "output_type": "display_data"
    }
   ],
   "source": [
    "# VARIABLES MERGED\n",
    "# Graphique du nombre de pompes en fonction du status et du funder\n",
    "fig,ax = plt.subplots(figsize=(16,8))\n",
    "ax = sns.countplot(x=\"funder\", hue=\"status_group\",data=training_df)\n",
    "plt.xlabel('funder', weight='bold',size=12)\n",
    "plt.ylabel('number', weight='bold',size=12)\n",
    "plt.title('pump status by funder', weight='bold', size=14)\n",
    "plt.tight_layout()\n",
    "plt.show()"
   ]
  },
  {
   "cell_type": "code",
   "execution_count": 288,
   "metadata": {},
   "outputs": [
    {
     "data": {
      "image/png": "[encoded data removed]",
      "text/plain": [
       "<Figure size 1152x576 with 1 Axes>"
      ]
     },
     "metadata": {
      "needs_background": "light"
     },
     "output_type": "display_data"
    }
   ],
   "source": [
    "# VARIABLES MERGED\n",
    "# Graphique du nombre de pompes en fonction du status et du bassin\n",
    "fig,ax = plt.subplots(figsize=(16,8))\n",
    "ax = sns.countplot(x=\"basin\", hue=\"status_group\",data=training_df)\n",
    "plt.xlabel('basin', weight='bold',size=12)\n",
    "plt.ylabel('number', weight='bold',size=12)\n",
    "plt.title('pump status by basin', weight='bold', size=14)\n",
    "plt.tight_layout()\n",
    "plt.show()"
   ]
  },
  {
   "cell_type": "code",
   "execution_count": 174,
   "metadata": {},
   "outputs": [
    {
     "data": {
      "text/plain": [
       "DWE                   17402\n",
       "Government             1825\n",
       "RWE                    1206\n",
       "Commu                  1060\n",
       "DANIDA                 1050\n",
       "KKKT                    898\n",
       "Hesawa                  840\n",
       "0                       777\n",
       "TCRS                    707\n",
       "Central government      622\n",
       "Name: installer, dtype: int64"
      ]
     },
     "execution_count": 174,
     "metadata": {},
     "output_type": "execute_result"
    }
   ],
   "source": [
    "# VARIABLES MERGED\n",
    "# Afficher les (10) valeurs les plus fréquentes dans la feature 'installer'\n",
    "training_df.installer.value_counts().head(10)"
   ]
  },
  {
   "cell_type": "code",
   "execution_count": 292,
   "metadata": {},
   "outputs": [
    {
     "data": {
      "image/png": "[encoded data removed]",
      "text/plain": [
       "<Figure size 1152x576 with 1 Axes>"
      ]
     },
     "metadata": {
      "needs_background": "light"
     },
     "output_type": "display_data"
    }
   ],
   "source": [
    "# VARIABLES MERGED\n",
    "# Graphique du nombre de pompes en fonction du status et du waterpoint_type\n",
    "fig,ax = plt.subplots(figsize=(16,8))\n",
    "ax = sns.countplot(x=\"waterpoint_type\", hue=\"status_group\",data=training_df)\n",
    "plt.xlabel('waterpoint_type', weight='bold',size=12)\n",
    "plt.ylabel('number', weight='bold',size=12)\n",
    "plt.title('pump status by waterpoint_type', weight='bold', size=14)\n",
    "plt.tight_layout()\n",
    "plt.show()"
   ]
  },
  {
   "cell_type": "code",
   "execution_count": 294,
   "metadata": {},
   "outputs": [
    {
     "data": {
      "image/png": "[encoded data removed]",
      "text/plain": [
       "<Figure size 1152x576 with 1 Axes>"
      ]
     },
     "metadata": {
      "needs_background": "light"
     },
     "output_type": "display_data"
    }
   ],
   "source": [
    "# VARIABLES MERGED\n",
    "# Graphique du nombre de pompes en fonction du status et du source_class\n",
    "fig,ax = plt.subplots(figsize=(16,8))\n",
    "ax = sns.countplot(x=\"source_class\", hue=\"status_group\",data=training_df)\n",
    "plt.xlabel('source_class', weight='bold',size=12)\n",
    "plt.ylabel('number', weight='bold',size=12)\n",
    "plt.title('pump status by source_class', weight='bold', size=14)\n",
    "plt.tight_layout()\n",
    "plt.show()"
   ]
  },
  {
   "cell_type": "code",
   "execution_count": 295,
   "metadata": {},
   "outputs": [
    {
     "data": {
      "image/png": "[encoded data removed]",
      "text/plain": [
       "<Figure size 1152x576 with 1 Axes>"
      ]
     },
     "metadata": {
      "needs_background": "light"
     },
     "output_type": "display_data"
    }
   ],
   "source": [
    "# VARIABLES MERGED\n",
    "# Graphique du nombre de pompes en fonction du status et du source_type\n",
    "fig,ax = plt.subplots(figsize=(16,8))\n",
    "ax = sns.countplot(x=\"source_type\", hue=\"status_group\",data=training_df)\n",
    "plt.xlabel('source_type', weight='bold',size=12)\n",
    "plt.ylabel('number', weight='bold',size=12)\n",
    "plt.title('pump status by source_type', weight='bold', size=14)\n",
    "plt.tight_layout()\n",
    "plt.show()"
   ]
  },
  {
   "cell_type": "code",
   "execution_count": null,
   "metadata": {},
   "outputs": [],
   "source": [
    "source_type"
   ]
  }
 ],
 "metadata": {
  "kernelspec": {
   "display_name": "Python 3",
   "language": "python",
   "name": "python3"
  },
  "language_info": {
   "codemirror_mode": {
    "name": "ipython",
    "version": 3
   },
   "file_extension": ".py",
   "mimetype": "text/x-python",
   "name": "python",
   "nbconvert_exporter": "python",
   "pygments_lexer": "ipython3",
   "version": "3.7.0"
  }
 },
 "nbformat": 4,
 "nbformat_minor": 2
}
